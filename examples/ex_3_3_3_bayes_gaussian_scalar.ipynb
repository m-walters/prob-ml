{
  "nbformat": 4,
  "nbformat_minor": 0,
  "metadata": {
    "colab": {
      "provenance": [],
      "authorship_tag": "ABX9TyPnz3mTcx9OUmLJMNbIZt4W",
      "include_colab_link": true
    },
    "kernelspec": {
      "name": "python3",
      "display_name": "Python 3"
    },
    "language_info": {
      "name": "python"
    }
  },
  "cells": [
    {
      "cell_type": "markdown",
      "metadata": {
        "id": "view-in-github",
        "colab_type": "text"
      },
      "source": [
        "<a href=\"https://colab.research.google.com/github/m-walters/prob-ml/blob/main/examples/ex_3_3_3_bayes_gaussian_scalar.ipynb\" target=\"_parent\"><img src=\"https://colab.research.google.com/assets/colab-badge.svg\" alt=\"Open In Colab\"/></a>"
      ]
    },
    {
      "cell_type": "markdown",
      "source": [
        "From page 86\n",
        "We have a hidden variable $z$, and we take $k$ noisy measurements $\\{y_1, y_2,...\\}$.\n",
        "\n",
        "We will assume the measurements have a fixed precision $\\lambda_y=1/\\sigma^2$.\n",
        "\n",
        "The likelihood is the gaussian\n",
        "$$p(y_i|z) = N(y_i|z,\\lambda_y^{-1}).$$\n",
        "\n",
        "We can use the prior for the unknown source\n",
        "$$p(z) = N(z|\\mu_0, \\lambda^{-1}_0),$$\n",
        "\n",
        "and we want to compute $p(z|y_1,...,y_k, \\sigma^2)$. See the text for the remainder of the explanation."
      ],
      "metadata": {
        "id": "GLRBkskg0dts"
      }
    },
    {
      "cell_type": "code",
      "source": [
        "import numpy as np\n",
        "import random\n",
        "import matplotlib.pyplot as plt\n",
        "\n",
        "from typing import Tuple, TypedDict, List\n",
        "from scipy.stats import truncnorm\n",
        "from scipy.stats import beta as Beta\n",
        "\n",
        "np.random.seed(8675309)"
      ],
      "metadata": {
        "id": "wkZbdtlORvGH"
      },
      "execution_count": null,
      "outputs": []
    },
    {
      "cell_type": "code",
      "source": [
        "z = 29\n"
      ],
      "metadata": {
        "id": "22FVXNuQ3yIw"
      },
      "execution_count": null,
      "outputs": []
    }
  ]
}